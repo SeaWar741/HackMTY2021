{
  "nbformat": 4,
  "nbformat_minor": 0,
  "metadata": {
    "colab": {
      "name": "TimeSeries",
      "provenance": [],
      "collapsed_sections": [],
      "authorship_tag": "ABX9TyPK9KHrHY6hZmUNj1nvQwDN",
      "include_colab_link": true
    },
    "kernelspec": {
      "name": "python3",
      "display_name": "Python 3"
    },
    "language_info": {
      "name": "python"
    }
  },
  "cells": [
    {
      "cell_type": "markdown",
      "metadata": {
        "id": "view-in-github",
        "colab_type": "text"
      },
      "source": [
        "<a href=\"https://colab.research.google.com/github/SeaWar741/HackMTY2021/blob/main/TimeSeries.ipynb\" target=\"_parent\"><img src=\"https://colab.research.google.com/assets/colab-badge.svg\" alt=\"Open In Colab\"/></a>"
      ]
    },
    {
      "cell_type": "code",
      "metadata": {
        "id": "7VcYO_HWDLsY"
      },
      "source": [
        "import numpy as np\n",
        "import matplotlib.pyplot as plt\n",
        "import pandas as pd\n",
        "from matplotlib import pyplot\n",
        "from sklearn.metrics import mean_squared_error\n",
        "from sklearn.model_selection import train_test_split"
      ],
      "execution_count": 37,
      "outputs": []
    },
    {
      "cell_type": "code",
      "metadata": {
        "id": "-ODuMKmtETXu"
      },
      "source": [
        "df = pd.read_csv(\"IndicadoresLimpios.csv\")\n",
        "df = df.iloc[: , 1:]"
      ],
      "execution_count": 4,
      "outputs": []
    },
    {
      "cell_type": "code",
      "metadata": {
        "colab": {
          "base_uri": "https://localhost:8080/",
          "height": 440
        },
        "id": "aPm0Dm6sEWBB",
        "outputId": "d43465f4-3942-47eb-8792-67a2b9d4db5a"
      },
      "source": [
        "df.head(n=5)"
      ],
      "execution_count": 5,
      "outputs": [
        {
          "output_type": "execute_result",
          "data": {
            "text/html": [
              "<div>\n",
              "<style scoped>\n",
              "    .dataframe tbody tr th:only-of-type {\n",
              "        vertical-align: middle;\n",
              "    }\n",
              "\n",
              "    .dataframe tbody tr th {\n",
              "        vertical-align: top;\n",
              "    }\n",
              "\n",
              "    .dataframe thead th {\n",
              "        text-align: right;\n",
              "    }\n",
              "</style>\n",
              "<table border=\"1\" class=\"dataframe\">\n",
              "  <thead>\n",
              "    <tr style=\"text-align: right;\">\n",
              "      <th></th>\n",
              "      <th>Date</th>\n",
              "      <th>INPC</th>\n",
              "      <th>Producto interno bruto</th>\n",
              "      <th>Impuestos sobre los productos, netos</th>\n",
              "      <th>Valor agregado bruto</th>\n",
              "      <th>Actividades primarias</th>\n",
              "      <th>Agricultura, cría y explotación de animales, aprovechamiento forestal, pesca y caza</th>\n",
              "      <th>Agricultura</th>\n",
              "      <th>Cría y explotación de animales</th>\n",
              "      <th>Aprovechamiento forestal</th>\n",
              "      <th>Pesca, caza y captura</th>\n",
              "      <th>Servicios relacionados con las actividades agropecuarias y forestales</th>\n",
              "      <th>Actividades secundarias</th>\n",
              "      <th>Minería</th>\n",
              "      <th>Extracción de petróleo y gas</th>\n",
              "      <th>Minería de minerales metálicos y no metálicos, excepto petróleo y gas</th>\n",
              "      <th>Servicios relacionados con la minería</th>\n",
              "      <th>Generación, transmisión y distribución de energía eléctrica, suministro de agua y de gas por ductos al consumidor final</th>\n",
              "      <th>Generación, transmisión y distribución de energía eléctrica</th>\n",
              "      <th>Suministro de agua y suministro de gas por ductos al consumidor final</th>\n",
              "      <th>Construcción</th>\n",
              "      <th>Edificación</th>\n",
              "      <th>Construcción de obras de ingeniería civil</th>\n",
              "      <th>Trabajos especializados para la construcción</th>\n",
              "      <th>Industrias manufactureras</th>\n",
              "      <th>Industria alimentaria</th>\n",
              "      <th>Elaboración de alimentos para animales</th>\n",
              "      <th>Molienda de granos y de semillas y obtención de aceites y grasas</th>\n",
              "      <th>Elaboración de azúcares, chocolates, dulces y similares</th>\n",
              "      <th>Conservación de frutas, verduras, guisos y otros alimentos preparados</th>\n",
              "      <th>Elaboración de productos lácteos</th>\n",
              "      <th>Matanza, empacado y procesamiento de carne de ganado, aves y otros animales comestibles</th>\n",
              "      <th>Preparación y envasado de pescados y mariscos</th>\n",
              "      <th>Elaboración de productos de panadería y tortillas</th>\n",
              "      <th>Otras industrias alimentarias</th>\n",
              "      <th>Industria de las bebidas y del tabaco</th>\n",
              "      <th>Industria de las bebidas</th>\n",
              "      <th>Industria del tabaco</th>\n",
              "      <th>Fabricación de insumos textiles y acabado de textiles</th>\n",
              "      <th>Preparación e hilado de fibras textiles, y fabricación de hilos</th>\n",
              "      <th>...</th>\n",
              "      <th>Ingreso interno bruto (UMN a precios constantes)</th>\n",
              "      <th>Ingreso nacional bruto (ING) (US$)</th>\n",
              "      <th>Ingreso nacional neto ajustado (% de crecimiento anual)</th>\n",
              "      <th>Ingreso nacional neto ajustado (US$ constantes del año 2010)</th>\n",
              "      <th>Ingreso nacional neto ajustado per cápita (% de crecimiento anual)</th>\n",
              "      <th>Ingreso nacional neto ajustado per cápita (US$ constantes del año 2010)</th>\n",
              "      <th>Pago de intereses (% del gasto)</th>\n",
              "      <th>Pago de intereses (UMN a precios actuales)</th>\n",
              "      <th>PGP, bonos (FLN, US$ a precios actuales)</th>\n",
              "      <th>PIB (US$ a precios constantes de 2010)</th>\n",
              "      <th>PIB per cápita (US$ a precios constantes de 2010)</th>\n",
              "      <th>Precio de la gasolina para el usuario (US$ por litro)</th>\n",
              "      <th>Producción acuícola (toneladas métricas)</th>\n",
              "      <th>Producción de cereales (toneladas métricas)</th>\n",
              "      <th>Producción de electricidad a partir de carbón  (% del total)</th>\n",
              "      <th>Producción de electricidad a partir de fuentes de gas natural (% del total)</th>\n",
              "      <th>Producción de electricidad a partir de fuentes de petróleo, gas y carbón (% del total)</th>\n",
              "      <th>Producción de electricidad a partir de fuentes hidroeléctricas (% del total)</th>\n",
              "      <th>Producción de electricidad a partir de fuentes nucleares (% del total)</th>\n",
              "      <th>Producción de electricidad a partir de fuentes renovables, excluida la hidroeléctrica (% del total)</th>\n",
              "      <th>Producción de electricidad a partir de fuentes renovables, excluida la hidroeléctrica (kilovatio-hora)</th>\n",
              "      <th>Producción de electricidad a partir del petróleo (% del total)</th>\n",
              "      <th>Producción de energía eléctrica renovable (% de la producción total de electricidad)</th>\n",
              "      <th>Producción de la pesca de captura (toneladas métricas)</th>\n",
              "      <th>Relación entre empleo y población, mayores de 15 años, total (%) (estimación nacional)</th>\n",
              "      <th>Remesas de trabajadores y compensación de empleados, pagadas (US$ a precios actuales)</th>\n",
              "      <th>Saldo en cuenta corriente (balanza de pagos, US$ a precios actuales)</th>\n",
              "      <th>Services, value added (constant 2010 US$)</th>\n",
              "      <th>Servicios, valor agregado (US$ actuales)</th>\n",
              "      <th>Tasa de interés activa (%)</th>\n",
              "      <th>Tasa de interés de los depósitos (%)</th>\n",
              "      <th>Tasa de interés real (%)</th>\n",
              "      <th>Tasa de participación en la fuerza laboral, de 15 a 24 años, total (%) (estimación nacional)</th>\n",
              "      <th>Tasa de participación en la fuerza laboral, total (% de la población total mayor de 15 años) (estimación nacional)</th>\n",
              "      <th>Tasa de participación en la fuerza laboral, total (% del total de la población entre 15-64 años) (estimación modelado OIT)</th>\n",
              "      <th>Tasa de población activa, total (% de la población total mayor de 15 años) (estimación modelado OIT)</th>\n",
              "      <th>Textiles e indumentaria (% del valor agregado en la industrialización)</th>\n",
              "      <th>Turismo internacional, recibos (US$ a precios actuales)</th>\n",
              "      <th>Salario Minimo</th>\n",
              "      <th>Valor del dolar en peso mexicano Cierre</th>\n",
              "    </tr>\n",
              "  </thead>\n",
              "  <tbody>\n",
              "    <tr>\n",
              "      <th>0</th>\n",
              "      <td>01/15/2000</td>\n",
              "      <td>44.809270</td>\n",
              "      <td>1.272502e+10</td>\n",
              "      <td>482883855.0</td>\n",
              "      <td>1.224214e+10</td>\n",
              "      <td>422422225.0</td>\n",
              "      <td>422422225.0</td>\n",
              "      <td>264760.3</td>\n",
              "      <td>125182649.0</td>\n",
              "      <td>22713.71</td>\n",
              "      <td>9080267.0</td>\n",
              "      <td>685299.0</td>\n",
              "      <td>4.679081e+09</td>\n",
              "      <td>1.179646e+09</td>\n",
              "      <td>1.020580e+09</td>\n",
              "      <td>104016706.0</td>\n",
              "      <td>55049222.0</td>\n",
              "      <td>127504124.0</td>\n",
              "      <td>87971396.0</td>\n",
              "      <td>39532728.0</td>\n",
              "      <td>1.022891e+09</td>\n",
              "      <td>810365512.0</td>\n",
              "      <td>109068821.0</td>\n",
              "      <td>103456199.0</td>\n",
              "      <td>2349040.75</td>\n",
              "      <td>480827364.0</td>\n",
              "      <td>15254351.0</td>\n",
              "      <td>41381.35</td>\n",
              "      <td>46681975.0</td>\n",
              "      <td>14768964.0</td>\n",
              "      <td>43771008.0</td>\n",
              "      <td>93517961.0</td>\n",
              "      <td>2835.43</td>\n",
              "      <td>149386356.0</td>\n",
              "      <td>73229969.0</td>\n",
              "      <td>96113984.0</td>\n",
              "      <td>70381299.0</td>\n",
              "      <td>25732685.0</td>\n",
              "      <td>39223477.0</td>\n",
              "      <td>8217.0</td>\n",
              "      <td>...</td>\n",
              "      <td>1.309720e+13</td>\n",
              "      <td>6.927095e+14</td>\n",
              "      <td>5.808398e+14</td>\n",
              "      <td>7.345467e+14</td>\n",
              "      <td>4.294531e+14</td>\n",
              "      <td>7.427177e+14</td>\n",
              "      <td>1.333246e+14</td>\n",
              "      <td>1.131610e+11</td>\n",
              "      <td>-1.887513e+09</td>\n",
              "      <td>9.152160e+14</td>\n",
              "      <td>9.253968e+14</td>\n",
              "      <td>0.61</td>\n",
              "      <td>53918.0</td>\n",
              "      <td>27995057.0</td>\n",
              "      <td>9.234958e+14</td>\n",
              "      <td>2.145569e+14</td>\n",
              "      <td>7.619886e+13</td>\n",
              "      <td>1.610940e+14</td>\n",
              "      <td>3.997083e+14</td>\n",
              "      <td>3.694664e+14</td>\n",
              "      <td>7.599000e+09</td>\n",
              "      <td>4.550820e+14</td>\n",
              "      <td>1.980406e+14</td>\n",
              "      <td>1.351027e+09</td>\n",
              "      <td>60.06</td>\n",
              "      <td>438687035.0</td>\n",
              "      <td>-1.875242e+10</td>\n",
              "      <td>5.233761e+14</td>\n",
              "      <td>4.091867e+14</td>\n",
              "      <td>1.692833e+14</td>\n",
              "      <td>8.256667e+14</td>\n",
              "      <td>5.196593e+14</td>\n",
              "      <td>51.52</td>\n",
              "      <td>61.69</td>\n",
              "      <td>62.5</td>\n",
              "      <td>59.91</td>\n",
              "      <td>3.924844e+14</td>\n",
              "      <td>9.133000e+09</td>\n",
              "      <td>35.12</td>\n",
              "      <td>9.46</td>\n",
              "    </tr>\n",
              "    <tr>\n",
              "      <th>1</th>\n",
              "      <td>01/30/2000</td>\n",
              "      <td>45.052246</td>\n",
              "      <td>1.272502e+10</td>\n",
              "      <td>482883855.0</td>\n",
              "      <td>1.224214e+10</td>\n",
              "      <td>422422225.0</td>\n",
              "      <td>422422225.0</td>\n",
              "      <td>264760.3</td>\n",
              "      <td>125182649.0</td>\n",
              "      <td>22713.71</td>\n",
              "      <td>9080267.0</td>\n",
              "      <td>685299.0</td>\n",
              "      <td>4.679081e+09</td>\n",
              "      <td>1.179646e+09</td>\n",
              "      <td>1.020580e+09</td>\n",
              "      <td>104016706.0</td>\n",
              "      <td>55049222.0</td>\n",
              "      <td>127504124.0</td>\n",
              "      <td>87971396.0</td>\n",
              "      <td>39532728.0</td>\n",
              "      <td>1.022891e+09</td>\n",
              "      <td>810365512.0</td>\n",
              "      <td>109068821.0</td>\n",
              "      <td>103456199.0</td>\n",
              "      <td>2349040.75</td>\n",
              "      <td>480827364.0</td>\n",
              "      <td>15254351.0</td>\n",
              "      <td>41381.35</td>\n",
              "      <td>46681975.0</td>\n",
              "      <td>14768964.0</td>\n",
              "      <td>43771008.0</td>\n",
              "      <td>93517961.0</td>\n",
              "      <td>2835.43</td>\n",
              "      <td>149386356.0</td>\n",
              "      <td>73229969.0</td>\n",
              "      <td>96113984.0</td>\n",
              "      <td>70381299.0</td>\n",
              "      <td>25732685.0</td>\n",
              "      <td>39223477.0</td>\n",
              "      <td>8217.0</td>\n",
              "      <td>...</td>\n",
              "      <td>1.309720e+13</td>\n",
              "      <td>6.927095e+14</td>\n",
              "      <td>5.808398e+14</td>\n",
              "      <td>7.345467e+14</td>\n",
              "      <td>4.294531e+14</td>\n",
              "      <td>7.427177e+14</td>\n",
              "      <td>1.333246e+14</td>\n",
              "      <td>1.131610e+11</td>\n",
              "      <td>-1.887513e+09</td>\n",
              "      <td>9.152160e+14</td>\n",
              "      <td>9.253968e+14</td>\n",
              "      <td>0.61</td>\n",
              "      <td>53918.0</td>\n",
              "      <td>27995057.0</td>\n",
              "      <td>9.234958e+14</td>\n",
              "      <td>2.145569e+14</td>\n",
              "      <td>7.619886e+13</td>\n",
              "      <td>1.610940e+14</td>\n",
              "      <td>3.997083e+14</td>\n",
              "      <td>3.694664e+14</td>\n",
              "      <td>7.599000e+09</td>\n",
              "      <td>4.550820e+14</td>\n",
              "      <td>1.980406e+14</td>\n",
              "      <td>1.351027e+09</td>\n",
              "      <td>60.06</td>\n",
              "      <td>438687035.0</td>\n",
              "      <td>-1.875242e+10</td>\n",
              "      <td>5.233761e+14</td>\n",
              "      <td>4.091867e+14</td>\n",
              "      <td>1.692833e+14</td>\n",
              "      <td>8.256667e+14</td>\n",
              "      <td>5.196593e+14</td>\n",
              "      <td>51.52</td>\n",
              "      <td>61.69</td>\n",
              "      <td>62.5</td>\n",
              "      <td>59.91</td>\n",
              "      <td>3.924844e+14</td>\n",
              "      <td>9.133000e+09</td>\n",
              "      <td>35.12</td>\n",
              "      <td>9.46</td>\n",
              "    </tr>\n",
              "    <tr>\n",
              "      <th>2</th>\n",
              "      <td>02/15/2000</td>\n",
              "      <td>45.272547</td>\n",
              "      <td>1.272502e+10</td>\n",
              "      <td>482883855.0</td>\n",
              "      <td>1.224214e+10</td>\n",
              "      <td>422422225.0</td>\n",
              "      <td>422422225.0</td>\n",
              "      <td>264760.3</td>\n",
              "      <td>125182649.0</td>\n",
              "      <td>22713.71</td>\n",
              "      <td>9080267.0</td>\n",
              "      <td>685299.0</td>\n",
              "      <td>4.679081e+09</td>\n",
              "      <td>1.179646e+09</td>\n",
              "      <td>1.020580e+09</td>\n",
              "      <td>104016706.0</td>\n",
              "      <td>55049222.0</td>\n",
              "      <td>127504124.0</td>\n",
              "      <td>87971396.0</td>\n",
              "      <td>39532728.0</td>\n",
              "      <td>1.022891e+09</td>\n",
              "      <td>810365512.0</td>\n",
              "      <td>109068821.0</td>\n",
              "      <td>103456199.0</td>\n",
              "      <td>2349040.75</td>\n",
              "      <td>480827364.0</td>\n",
              "      <td>15254351.0</td>\n",
              "      <td>41381.35</td>\n",
              "      <td>46681975.0</td>\n",
              "      <td>14768964.0</td>\n",
              "      <td>43771008.0</td>\n",
              "      <td>93517961.0</td>\n",
              "      <td>2835.43</td>\n",
              "      <td>149386356.0</td>\n",
              "      <td>73229969.0</td>\n",
              "      <td>96113984.0</td>\n",
              "      <td>70381299.0</td>\n",
              "      <td>25732685.0</td>\n",
              "      <td>39223477.0</td>\n",
              "      <td>8217.0</td>\n",
              "      <td>...</td>\n",
              "      <td>1.309720e+13</td>\n",
              "      <td>6.927095e+14</td>\n",
              "      <td>5.808398e+14</td>\n",
              "      <td>7.345467e+14</td>\n",
              "      <td>4.294531e+14</td>\n",
              "      <td>7.427177e+14</td>\n",
              "      <td>1.333246e+14</td>\n",
              "      <td>1.131610e+11</td>\n",
              "      <td>-1.887513e+09</td>\n",
              "      <td>9.152160e+14</td>\n",
              "      <td>9.253968e+14</td>\n",
              "      <td>0.61</td>\n",
              "      <td>53918.0</td>\n",
              "      <td>27995057.0</td>\n",
              "      <td>9.234958e+14</td>\n",
              "      <td>2.145569e+14</td>\n",
              "      <td>7.619886e+13</td>\n",
              "      <td>1.610940e+14</td>\n",
              "      <td>3.997083e+14</td>\n",
              "      <td>3.694664e+14</td>\n",
              "      <td>7.599000e+09</td>\n",
              "      <td>4.550820e+14</td>\n",
              "      <td>1.980406e+14</td>\n",
              "      <td>1.351027e+09</td>\n",
              "      <td>60.06</td>\n",
              "      <td>438687035.0</td>\n",
              "      <td>-1.875242e+10</td>\n",
              "      <td>5.233761e+14</td>\n",
              "      <td>4.091867e+14</td>\n",
              "      <td>1.692833e+14</td>\n",
              "      <td>8.256667e+14</td>\n",
              "      <td>5.196593e+14</td>\n",
              "      <td>51.52</td>\n",
              "      <td>61.69</td>\n",
              "      <td>62.5</td>\n",
              "      <td>59.91</td>\n",
              "      <td>3.924844e+14</td>\n",
              "      <td>9.133000e+09</td>\n",
              "      <td>35.12</td>\n",
              "      <td>9.46</td>\n",
              "    </tr>\n",
              "    <tr>\n",
              "      <th>3</th>\n",
              "      <td>02/30/2000</td>\n",
              "      <td>45.386070</td>\n",
              "      <td>1.272502e+10</td>\n",
              "      <td>482883855.0</td>\n",
              "      <td>1.224214e+10</td>\n",
              "      <td>422422225.0</td>\n",
              "      <td>422422225.0</td>\n",
              "      <td>264760.3</td>\n",
              "      <td>125182649.0</td>\n",
              "      <td>22713.71</td>\n",
              "      <td>9080267.0</td>\n",
              "      <td>685299.0</td>\n",
              "      <td>4.679081e+09</td>\n",
              "      <td>1.179646e+09</td>\n",
              "      <td>1.020580e+09</td>\n",
              "      <td>104016706.0</td>\n",
              "      <td>55049222.0</td>\n",
              "      <td>127504124.0</td>\n",
              "      <td>87971396.0</td>\n",
              "      <td>39532728.0</td>\n",
              "      <td>1.022891e+09</td>\n",
              "      <td>810365512.0</td>\n",
              "      <td>109068821.0</td>\n",
              "      <td>103456199.0</td>\n",
              "      <td>2349040.75</td>\n",
              "      <td>480827364.0</td>\n",
              "      <td>15254351.0</td>\n",
              "      <td>41381.35</td>\n",
              "      <td>46681975.0</td>\n",
              "      <td>14768964.0</td>\n",
              "      <td>43771008.0</td>\n",
              "      <td>93517961.0</td>\n",
              "      <td>2835.43</td>\n",
              "      <td>149386356.0</td>\n",
              "      <td>73229969.0</td>\n",
              "      <td>96113984.0</td>\n",
              "      <td>70381299.0</td>\n",
              "      <td>25732685.0</td>\n",
              "      <td>39223477.0</td>\n",
              "      <td>8217.0</td>\n",
              "      <td>...</td>\n",
              "      <td>1.309720e+13</td>\n",
              "      <td>6.927095e+14</td>\n",
              "      <td>5.808398e+14</td>\n",
              "      <td>7.345467e+14</td>\n",
              "      <td>4.294531e+14</td>\n",
              "      <td>7.427177e+14</td>\n",
              "      <td>1.333246e+14</td>\n",
              "      <td>1.131610e+11</td>\n",
              "      <td>-1.887513e+09</td>\n",
              "      <td>9.152160e+14</td>\n",
              "      <td>9.253968e+14</td>\n",
              "      <td>0.61</td>\n",
              "      <td>53918.0</td>\n",
              "      <td>27995057.0</td>\n",
              "      <td>9.234958e+14</td>\n",
              "      <td>2.145569e+14</td>\n",
              "      <td>7.619886e+13</td>\n",
              "      <td>1.610940e+14</td>\n",
              "      <td>3.997083e+14</td>\n",
              "      <td>3.694664e+14</td>\n",
              "      <td>7.599000e+09</td>\n",
              "      <td>4.550820e+14</td>\n",
              "      <td>1.980406e+14</td>\n",
              "      <td>1.351027e+09</td>\n",
              "      <td>60.06</td>\n",
              "      <td>438687035.0</td>\n",
              "      <td>-1.875242e+10</td>\n",
              "      <td>5.233761e+14</td>\n",
              "      <td>4.091867e+14</td>\n",
              "      <td>1.692833e+14</td>\n",
              "      <td>8.256667e+14</td>\n",
              "      <td>5.196593e+14</td>\n",
              "      <td>51.52</td>\n",
              "      <td>61.69</td>\n",
              "      <td>62.5</td>\n",
              "      <td>59.91</td>\n",
              "      <td>3.924844e+14</td>\n",
              "      <td>9.133000e+09</td>\n",
              "      <td>35.12</td>\n",
              "      <td>9.46</td>\n",
              "    </tr>\n",
              "    <tr>\n",
              "      <th>4</th>\n",
              "      <td>03/15/2000</td>\n",
              "      <td>45.530449</td>\n",
              "      <td>1.272502e+10</td>\n",
              "      <td>482883855.0</td>\n",
              "      <td>1.224214e+10</td>\n",
              "      <td>422422225.0</td>\n",
              "      <td>422422225.0</td>\n",
              "      <td>264760.3</td>\n",
              "      <td>125182649.0</td>\n",
              "      <td>22713.71</td>\n",
              "      <td>9080267.0</td>\n",
              "      <td>685299.0</td>\n",
              "      <td>4.679081e+09</td>\n",
              "      <td>1.179646e+09</td>\n",
              "      <td>1.020580e+09</td>\n",
              "      <td>104016706.0</td>\n",
              "      <td>55049222.0</td>\n",
              "      <td>127504124.0</td>\n",
              "      <td>87971396.0</td>\n",
              "      <td>39532728.0</td>\n",
              "      <td>1.022891e+09</td>\n",
              "      <td>810365512.0</td>\n",
              "      <td>109068821.0</td>\n",
              "      <td>103456199.0</td>\n",
              "      <td>2349040.75</td>\n",
              "      <td>480827364.0</td>\n",
              "      <td>15254351.0</td>\n",
              "      <td>41381.35</td>\n",
              "      <td>46681975.0</td>\n",
              "      <td>14768964.0</td>\n",
              "      <td>43771008.0</td>\n",
              "      <td>93517961.0</td>\n",
              "      <td>2835.43</td>\n",
              "      <td>149386356.0</td>\n",
              "      <td>73229969.0</td>\n",
              "      <td>96113984.0</td>\n",
              "      <td>70381299.0</td>\n",
              "      <td>25732685.0</td>\n",
              "      <td>39223477.0</td>\n",
              "      <td>8217.0</td>\n",
              "      <td>...</td>\n",
              "      <td>1.309720e+13</td>\n",
              "      <td>6.927095e+14</td>\n",
              "      <td>5.808398e+14</td>\n",
              "      <td>7.345467e+14</td>\n",
              "      <td>4.294531e+14</td>\n",
              "      <td>7.427177e+14</td>\n",
              "      <td>1.333246e+14</td>\n",
              "      <td>1.131610e+11</td>\n",
              "      <td>-1.887513e+09</td>\n",
              "      <td>9.152160e+14</td>\n",
              "      <td>9.253968e+14</td>\n",
              "      <td>0.61</td>\n",
              "      <td>53918.0</td>\n",
              "      <td>27995057.0</td>\n",
              "      <td>9.234958e+14</td>\n",
              "      <td>2.145569e+14</td>\n",
              "      <td>7.619886e+13</td>\n",
              "      <td>1.610940e+14</td>\n",
              "      <td>3.997083e+14</td>\n",
              "      <td>3.694664e+14</td>\n",
              "      <td>7.599000e+09</td>\n",
              "      <td>4.550820e+14</td>\n",
              "      <td>1.980406e+14</td>\n",
              "      <td>1.351027e+09</td>\n",
              "      <td>60.06</td>\n",
              "      <td>438687035.0</td>\n",
              "      <td>-1.875242e+10</td>\n",
              "      <td>5.233761e+14</td>\n",
              "      <td>4.091867e+14</td>\n",
              "      <td>1.692833e+14</td>\n",
              "      <td>8.256667e+14</td>\n",
              "      <td>5.196593e+14</td>\n",
              "      <td>51.52</td>\n",
              "      <td>61.69</td>\n",
              "      <td>62.5</td>\n",
              "      <td>59.91</td>\n",
              "      <td>3.924844e+14</td>\n",
              "      <td>9.133000e+09</td>\n",
              "      <td>35.12</td>\n",
              "      <td>9.46</td>\n",
              "    </tr>\n",
              "  </tbody>\n",
              "</table>\n",
              "<p>5 rows × 264 columns</p>\n",
              "</div>"
            ],
            "text/plain": [
              "         Date  ...  Valor del dolar en peso mexicano Cierre\n",
              "0  01/15/2000  ...                                     9.46\n",
              "1  01/30/2000  ...                                     9.46\n",
              "2  02/15/2000  ...                                     9.46\n",
              "3  02/30/2000  ...                                     9.46\n",
              "4  03/15/2000  ...                                     9.46\n",
              "\n",
              "[5 rows x 264 columns]"
            ]
          },
          "metadata": {},
          "execution_count": 5
        }
      ]
    },
    {
      "cell_type": "code",
      "metadata": {
        "colab": {
          "base_uri": "https://localhost:8080/",
          "height": 283
        },
        "id": "xZl7Mh3NEjK4",
        "outputId": "1db6e9a9-dd46-4672-8982-e67cf5dc230c"
      },
      "source": [
        "plt.plot(df.INPC)"
      ],
      "execution_count": 8,
      "outputs": [
        {
          "output_type": "execute_result",
          "data": {
            "text/plain": [
              "[<matplotlib.lines.Line2D at 0x7fcc55876ad0>]"
            ]
          },
          "metadata": {},
          "execution_count": 8
        },
        {
          "output_type": "display_data",
          "data": {
            "image/png": "[encoded data removed]",
            "text/plain": [
              "<Figure size 432x288 with 1 Axes>"
            ]
          },
          "metadata": {
            "needs_background": "light"
          }
        }
      ]
    },
    {
      "cell_type": "code",
      "metadata": {
        "id": "N17yd5U5Ev4K"
      },
      "source": [
        "from sklearn.preprocessing import MinMaxScaler\n",
        "\n",
        "df.columns = df.columns.str.replace(' ', '_')\n",
        "\n",
        "X_scaler = MinMaxScaler()\n",
        "Y_scaler = MinMaxScaler()\n",
        "X_data = X_scaler.fit_transform(df[['Producto_interno_bruto',\n",
        " 'Impuestos_sobre_los_productos,_netos',\n",
        " 'Valor_agregado_bruto',\n",
        " 'Actividades_primarias',\n",
        " 'Agricultura,_cría_y_explotación_de_animales,_aprovechamiento_forestal,_pesca_y_caza',\n",
        " 'Agricultura',\n",
        " 'Cría_y_explotación_de_animales',\n",
        " 'Aprovechamiento_forestal',\n",
        " '_Pesca,_caza_y_captura',\n",
        " 'Servicios_relacionados_con_las_actividades_agropecuarias_y_forestales',\n",
        " 'Actividades_secundarias',\n",
        " 'Minería',\n",
        " 'Extracción_de_petróleo_y_gas',\n",
        " '_Minería_de_minerales_metálicos_y_no_metálicos,_excepto_petróleo_y_gas',\n",
        " 'Servicios_relacionados_con_la_minería',\n",
        " 'Generación,_transmisión_y_distribución_de_energía_eléctrica,_suministro_de_agua_y_de_gas_por_ductos_al_consumidor_final',\n",
        " 'Generación,_transmisión_y_distribución_de_energía_eléctrica',\n",
        " 'Suministro_de_agua_y_suministro_de_gas_por_ductos_al_consumidor_final',\n",
        " 'Construcción',\n",
        " 'Edificación',\n",
        " 'Construcción_de_obras_de_ingeniería_civil',\n",
        " 'Trabajos_especializados_para_la_construcción',\n",
        " 'Industrias_manufactureras',\n",
        " 'Industria_alimentaria',\n",
        " 'Elaboración_de_alimentos_para_animales',\n",
        " 'Molienda_de_granos_y_de_semillas_y_obtención_de_aceites_y_grasas',\n",
        " 'Elaboración_de_azúcares,_chocolates,_dulces_y_similares',\n",
        " 'Conservación_de_frutas,_verduras,_guisos_y_otros_alimentos_preparados',\n",
        " 'Elaboración_de_productos_lácteos',\n",
        " 'Matanza,_empacado_y_procesamiento_de_carne_de_ganado,_aves_y_otros_animales_comestibles',\n",
        " 'Preparación_y_envasado_de_pescados_y_mariscos',\n",
        " 'Elaboración_de_productos_de_panadería_y_tortillas',\n",
        " 'Otras_industrias_alimentarias',\n",
        " 'Industria_de_las_bebidas_y_del_tabaco',\n",
        " 'Industria_de_las_bebidas',\n",
        " 'Industria_del_tabaco',\n",
        " 'Fabricación_de_insumos_textiles_y_acabado_de_textiles',\n",
        " 'Preparación_e_hilado_de_fibras_textiles,_y_fabricación_de_hilos',\n",
        " 'Fabricación_de_telas',\n",
        " 'Acabado_de_productos_textiles_y_fabricación_de_telas_recubiertas',\n",
        " 'Fabricación_de_productos_textiles,_excepto_prendas_de_vestir',\n",
        " 'Confección_de_alfombras,_blancos_y_similares',\n",
        " 'Fabricación_de_otros_productos_textiles,_excepto_prendas_de_vestir',\n",
        " 'Fabricación_de_prendas_de_vestir',\n",
        " 'Fabricación_de_prendas_de_vestir_de_tejido_de_punto',\n",
        " 'Confección_de_prendas_de_vestir',\n",
        " 'Confección_de_accesorios_de_vestir_y_otras_prendas_de_vestir_no_clasificados_en_otra_parte',\n",
        " 'Curtido_y_acabado_de_cuero_y_piel,_y_fabricación_de_productos_de_cuero,_piel_y_materiales_sucedáneos',\n",
        " 'Curtido_y_acabado_de_cuero_y_piel',\n",
        " 'Fabricación_de_calzado',\n",
        " 'Fabricación_de_otros_productos_de_cuero,_piel_y_materiales_sucedáneos',\n",
        " 'Industria_de_la_madera',\n",
        " 'Aserrado_y_conservación_de_la_madera',\n",
        " 'Fabricación_de_laminados_y_aglutinados_de_madera',\n",
        " 'Fabricación_de_otros_productos_de_madera',\n",
        " 'Industria_del_papel',\n",
        " 'Fabricación_de_pulpa,_papel_y_cartón',\n",
        " 'Fabricación_de_productos_de_cartón_y_papel',\n",
        " 'Impresión_e_industrias_conexas',\n",
        " 'Fabricación_de_productos_derivados_del_petróleo_y_del_carbón',\n",
        " 'Industria_química',\n",
        " 'Fabricación_de_productos_químicos_básicos',\n",
        " 'Fabricación_de_resinas_y_hules_sintéticos,_y_fibras_químicas',\n",
        " 'Fabricación_de_fertilizantes,_pesticidas_y_otros_agroquímicos',\n",
        " 'Fabricación_de_productos_farmacéuticos',\n",
        " 'Fabricación_de_pinturas,_recubrimientos_y_adhesivos',\n",
        " 'Fabricación_de_jabones,_limpiadores_y_preparaciones_de_tocador',\n",
        " 'Fabricación_de_otros_productos_químicos',\n",
        " 'Industria_del_plástico_y_del_hule',\n",
        " 'Fabricación_de_productos_de_plástico',\n",
        " 'Fabricación_de_productos_de_hule',\n",
        " 'Fabricación_de_productos_a_base_de_minerales_no_metálicos',\n",
        " 'Fabricación_de_productos_a_base_de_arcillas_y_minerales_refractarios',\n",
        " 'Fabricación_de_vidrio_y_productos_de_vidrio',\n",
        " 'Fabricación_de_cemento_y_productos_de_concreto',\n",
        " 'Fabricación_de_cal,_yeso_y_productos_de_yeso',\n",
        " 'Fabricación_de_otros_productos_a_base_de_minerales_no_metálicos',\n",
        " 'Industrias_metálicas_básicas',\n",
        " 'Industria_básica_del_hierro_y_del_acero',\n",
        " 'Fabricación_de_productos_de_hierro_y_acero',\n",
        " 'Industria_básica_del_aluminio',\n",
        " 'Industrias_de_metales_no_ferrosos,_excepto_aluminio',\n",
        " 'Moldeo_por_fundición_de_piezas_metálicas',\n",
        " 'Fabricación_de_productos_metálicos',\n",
        " 'Fabricación_de_productos_metálicos_forjados_y_troquelados',\n",
        " 'Fabricación_de_herramientas_de_mano_sin_motor_y_utensilios_de_cocina_metálicos',\n",
        " 'Fabricación_de_estructuras_metálicas_y_productos_de_herrería',\n",
        " 'Fabricación_de_calderas,_tanques_y_envases_metálicos',\n",
        " 'Fabricación_de_herrajes_y_cerraduras',\n",
        " 'Fabricación_de_alambre,_productos_de_alambre_y_resortes',\n",
        " 'Maquinado_de_piezas_metálicas_y_fabricación_de_tornillos',\n",
        " 'Recubrimientos_y_terminados_metálicos',\n",
        " 'Fabricación_de_otros_productos_metálicos',\n",
        " 'Fabricación_de_maquinaria_y_equipo',\n",
        " 'Fabricación_de_maquinaria_y_equipo_agropecuario,_para_la_construcción_y_para_la_industria_extractiva',\n",
        " 'Fabricación_de_maquinaria_y_equipo_para_las_industrias_manufactureras,_excepto_la_metalmecánica',\n",
        " 'Fabricación_de_maquinaria_y_equipo_para_el_comercio_y_los_servicios',\n",
        " 'Fabricación_de_equipo_de_aire_acondicionado,_calefacción,_y_de_refrigeración_industrial_y_comercial',\n",
        " 'Fabricación_de_maquinaria_y_equipo_para_la_industria_metalmecánica',\n",
        " 'Fabricación_de_motores_de_combustión_interna,_turbinas_y_transmisiones',\n",
        " 'Fabricación_de_otra_maquinaria_y_equipo_para_la_industria_en_general',\n",
        " 'Fabricación_de_equipo_de_computación,_comunicación,_medición_y_de_otros_equipos,_componentes_y_accesorios_electrónicos',\n",
        " 'Fabricación_de_computadoras_y_equipo_periférico',\n",
        " 'Fabricación_de_equipo_de_comunicación',\n",
        " 'Fabricación_de_equipo_de_audio_y_de_video',\n",
        " 'Fabricación_de_componentes_electrónicos',\n",
        " 'Fabricación_de_instrumentos_de_medición,_control,_navegación,_y_equipo_médico_electrónico',\n",
        " 'Fabricación_y_reproducción_de_medios_magnéticos_y_ópticos',\n",
        " 'Fabricación_de_accesorios,_aparatos_eléctricos_y_equipo_de_generación_de_energía_eléctrica',\n",
        " 'Fabricación_de_accesorios_de_iluminación',\n",
        " 'Fabricación_de_aparatos_eléctricos_de_uso_doméstico',\n",
        " 'Fabricación_de_equipo_de_generación_y_distribución_de_energía_eléctrica',\n",
        " 'Fabricación_de_otros_equipos_y_accesorios_eléctricos',\n",
        " 'Fabricación_de_equipo_de_transporte',\n",
        " 'Fabricación_de_automóviles_y_camiones',\n",
        " 'Fabricación_de_carrocerías_y_remolques',\n",
        " 'Fabricación_de_partes_para_vehículos_automotores',\n",
        " 'Fabricación_de_equipo_aeroespacial',\n",
        " 'Fabricación_de_equipo_ferroviario',\n",
        " 'Fabricación_de_embarcaciones',\n",
        " 'Fabricación_de_otro_equipo_de_transporte',\n",
        " 'Fabricación_de_muebles,_colchones_y_persianas',\n",
        " 'Fabricación_de_muebles,_excepto_de_oficina_y_estantería',\n",
        " 'Fabricación_de_muebles_de_oficina_y_estantería',\n",
        " 'Fabricación_de_colchones,_persianas_y_cortineros',\n",
        " 'Otras_industrias_manufactureras',\n",
        " 'Fabricación_de_equipo_no_electrónico_y_material_desechable_de_uso_médico,_dental_y_para_laboratorio,_y_artículos_oftálmicos',\n",
        " 'Otras_industrias_manufactureras.1',\n",
        " 'Actividades_terciarias',\n",
        " 'Comercio_al_por_mayor',\n",
        " 'Comercio_al_por_menor',\n",
        " 'Transportes,_correos_y_almacenamiento',\n",
        " 'Transporte_aéreo',\n",
        " 'Transporte_por_ferrocarril',\n",
        " 'Transporte_por_agua',\n",
        " 'Autotransporte_de_carga',\n",
        " 'Transporte_terrestre_de_pasajeros,_excepto_por_ferrocarril',\n",
        " 'Transporte_por_ductos._Transporte_turístico._Servicios_relacionados_con_el_transporte',\n",
        " 'Servicios_postales._Servicios_de_mensajería_y_paquetería',\n",
        " 'Servicios_de_almacenamiento',\n",
        " 'Información_en_medios_masivos',\n",
        " 'Edición_de_periódicos,_revistas,_libros,_software_y_otros_materiales,_y_edición_de_estas_publicaciones_integrada_con_la_impresión',\n",
        " 'Industria_fílmica_y_del_video,_e_industria_del_sonido',\n",
        " 'Radio_y_televisión',\n",
        " 'Telecomunicaciones',\n",
        " 'Procesamiento_electrónico_de_información,_hospedaje_y_otros_servicios_relacionados',\n",
        " 'Otros_servicios_de_información',\n",
        " 'Servicios_financieros_y_de_seguros',\n",
        " 'Banca_central._Instituciones_de_intermediación_crediticia_y_financiera_no_bursátil._Actividades_bursátiles,_cambiarias_y_de_inversión_financiera',\n",
        " 'Compañías_de_fianzas,_seguros_y_pensiones',\n",
        " 'Servicios_inmobiliarios_y_de_alquiler_de_bienes_muebles_e_intangibles',\n",
        " 'Servicios_inmobiliarios',\n",
        " 'Servicios_de_alquiler_de_bienes_muebles._Servicios_de_alquiler_de_marcas_registradas,_patentes_y_franquicias',\n",
        " 'Servicios_profesionales,_científicos_y_técnicos',\n",
        " 'Corporativos',\n",
        " 'Servicios_de_apoyo_a_los_negocios_y_manejo_de_residuos_y_desechos,_y_servicios_de_remediación',\n",
        " 'Servicios_educativos',\n",
        " 'Servicios_de_salud_y_de_asistencia_social',\n",
        " 'Servicios_médicos_de_consulta_externa_y_servicios_relacionados',\n",
        " 'Hospitales',\n",
        " 'Residencias_de_asistencia_social_y_para_el_cuidado_de_la_salud._Otros_servicios_de_asistencia_social',\n",
        " 'Servicios_de_esparcimiento_culturales_y_deportivos,_y_otros_servicios_recreativos',\n",
        " 'Servicios_artísticos,_culturales_y_deportivos,_y_otros_servicios_relacionados',\n",
        " 'Museos,_sitios_históricos,_zoológicos_y_similares._Servicios_de_entretenimiento_en_instalaciones_recreativas_y_otros_servicios_recreativos',\n",
        " 'Servicios_de_alojamiento_temporal_y_de_preparación_de_alimentos_y_bebidas',\n",
        " 'Servicios_de_alojamiento_temporal',\n",
        " 'Servicios_de_preparación_de_alimentos_y_bebidas',\n",
        " 'Otros_servicios_excepto_actividades_gubernamentales',\n",
        " 'Servicios_de_reparación_y_mantenimiento',\n",
        " 'Servicios_personales',\n",
        " 'Asociaciones_y_organizaciones._Hogares_con_empleados_domésticos',\n",
        " 'Actividades_legislativas,_gubernamentales,_de_impartición_de_justicia_y_de_organismos_internacionales_y_extraterritoriales',\n",
        " 'US_inflation',\n",
        " 'Valor_del_peso',\n",
        " 'Remesas',\n",
        " 'Acciones_negociadas,_valor_total_(US$_a_precios_actuales)',\n",
        " 'Ahorro_ajustado:_ahorro_nacional_neto_(US$_actuales)',\n",
        " 'Balanza_comercial_de_bienes_y_servicios_(US$_a_precios_actuales)',\n",
        " 'Cambios_en_las_reservas_netas_(balanza_de_pagos,_US$_a_precios_actuales)',\n",
        " 'Capitalización_en_el_mercado_de_empresas_nacionales_que_cotizan_en_bolsa_(USD_a_precios_actuales)',\n",
        " 'Comercio_neto_de_bienes_(balanza_de_pagos,_US$_a_precios_actuales)',\n",
        " 'Comercio_neto_de_bienes_y_servicios_(balanza_de_pagos,_US$_a_precios_actuales)',\n",
        " 'Consumo_de_energía_eléctrica_(kWh_per_cápita)',\n",
        " 'Consumo_de_energía_procedente_de_combustibles_fósiles_(%_del_total)',\n",
        " 'Consumo_de_energía_renovable_(%_del_consumo_total_de_energía_final)',\n",
        " 'Desempleo,_total_(%_de_la_población_activa_total)_(estimación_modelado_OIT)',\n",
        " 'Deuda_a_corto_plazo_(%_de_las_exportaciones_de_bienes,_servicios_e_ingresos_primario)',\n",
        " 'Deuda_a_corto_plazo_(%_del_total_de_la_deuda_externa)',\n",
        " 'Deuda_a_corto_plazo_(%_del_total_de_reservas)',\n",
        " 'Deuda_externa_acumulada_(%_del_INB)',\n",
        " 'Deuda_externa_acumulada,_a_corto_plazo_(DOD,_US$_a_precios_actuales)',\n",
        " 'Deuda_externa_acumulada,_a_largo_plazo_(deuda_desembolsada_y_pendiente_:DOD,_US$_a_precios_actuales)',\n",
        " 'Deuda_externa_acumulada,_privada_sin_garantía_(PNG)_(DOD,_US$_a_precios_actuales)',\n",
        " 'Deuda_externa_acumulada,_pública_y_con_garantía_pública_(PPG)__(DOD,_US$_a_precios_actuales)',\n",
        " 'Deuda_externa_acumulada,_total_(DOD,_US$_a_precios_actuales)',\n",
        " 'Export_unit_value_index_(2000_=_100)',\n",
        " 'Exportaciones_de_bienes_(balanza_de_pagos,_US$_a_precios_actuales)',\n",
        " 'Exportaciones_de_bienes_y_servicios_(balanza_de_pagos,_US$_a_precios_actuales)',\n",
        " 'Exportaciones_de_bienes_y_servicios_(US$_a_precios_constantes_de_2010)',\n",
        " 'Exportaciones_de_mercaderías_(US$_a_precios_actuales)',\n",
        " 'Exportaciones_de_productos_de_alta_tecnología_(US$_a_precios_actuales)',\n",
        " 'Exportaciones_de_servicios_comerciales_(US$_a_precios_actuales)',\n",
        " 'Exportaciones_de_servicios_de_TIC_(balanza_de_pagos,_US$_a_precios_actuales)',\n",
        " 'Importaciones_de_bienes_(balanza_de_pagos,_US$_a_precios_actuales)',\n",
        " 'Importaciones_de_bienes_y_servicios_(balanza_de_pagos,_US$_a_precios_actuales)',\n",
        " 'Importaciones_de_bienes_y_servicios_(US$_a_precios_constantes_de_2010)',\n",
        " 'Importaciones_de_mercaderías_(US$_a_precios_actuales)',\n",
        " 'Importaciones_de_servicios_(balanza_de_pagos,_US$_a_precios_actuales)',\n",
        " 'Importaciones_de_servicios_comerciales_(US$_a_precios_actuales)',\n",
        " 'Índice_de_desempeño_logístico:_calidad_de_la_infraestructura_relacionada_con_el_comercio_y_el_transporte_(1=_baja_a_5=_alta)',\n",
        " 'Índice_de_precios_al_consumidor_(2010_=_100)',\n",
        " 'Índice_de_producción_animal_(2004-2006_=_100)',\n",
        " 'Índice_de_producción_de_alimentos_(2004-2006_=_100)',\n",
        " 'Índice_de_valor_de_exportación_(2000_=_100)',\n",
        " 'Índice_del_volumen_de_exportaciones_(2000_=_100)',\n",
        " 'Índice_del_volumen_de_las_importaciones_(2000_=_100)',\n",
        " 'Industria,_valor_agregado_(%_del_PIB)',\n",
        " 'Industria,_valor_agregado_(US$_a_precios_constantes_de_2010)',\n",
        " 'Industrialización,_valor_agregado_(US$_a_precios_constantes_de_2010)',\n",
        " 'Inflación,_deflactor_del_PIB:_series_vinculadas_(%_anual)',\n",
        " 'Inflación,_índice_de_deflación_del_PIB_(%_anual)',\n",
        " 'Inflación,_precios_al_consumidor_(%_anual)',\n",
        " 'Ingreso_interno_bruto_(UMN_a_precios_constantes)',\n",
        " 'Ingreso_nacional_bruto_(ING)_(US$)',\n",
        " 'Ingreso_nacional_neto_ajustado_(%_de_crecimiento_anual)',\n",
        " 'Ingreso_nacional_neto_ajustado_(US$_constantes_del_año_2010)',\n",
        " 'Ingreso_nacional_neto_ajustado_per_cápita_(%_de_crecimiento_anual)',\n",
        " 'Ingreso_nacional_neto_ajustado_per_cápita_(US$_constantes_del_año_2010)',\n",
        " 'Pago_de_intereses_(%_del_gasto)',\n",
        " 'Pago_de_intereses_(UMN_a_precios_actuales)',\n",
        " 'PGP,_bonos_(FLN,_US$_a_precios_actuales)',\n",
        " 'PIB_(US$_a_precios_constantes_de_2010)',\n",
        " 'PIB_per_cápita_(US$_a_precios_constantes_de_2010)',\n",
        " 'Precio_de_la_gasolina_para_el_usuario_(US$_por_litro)',\n",
        " 'Producción_acuícola_(toneladas_métricas)',\n",
        " 'Producción_de_cereales_(toneladas_métricas)',\n",
        " 'Producción_de_electricidad_a_partir_de_carbón__(%_del_total)',\n",
        " 'Producción_de_electricidad_a_partir_de_fuentes_de_gas_natural_(%_del_total)',\n",
        " 'Producción_de_electricidad_a_partir_de_fuentes_de_petróleo,_gas_y_carbón_(%_del_total)',\n",
        " 'Producción_de_electricidad_a_partir_de_fuentes_hidroeléctricas_(%_del_total)',\n",
        " 'Producción_de_electricidad_a_partir_de_fuentes_nucleares_(%_del_total)',\n",
        " 'Producción_de_electricidad_a_partir_de_fuentes_renovables,_excluida_la_hidroeléctrica_(%_del_total)',\n",
        " 'Producción_de_electricidad_a_partir_de_fuentes_renovables,_excluida_la_hidroeléctrica_(kilovatio-hora)',\n",
        " 'Producción_de_electricidad_a_partir_del_petróleo_(%_del_total)',\n",
        " 'Producción_de_energía_eléctrica_renovable_(%_de_la_producción_total_de_electricidad)',\n",
        " 'Producción_de_la_pesca_de_captura_(toneladas_métricas)',\n",
        " 'Relación_entre_empleo_y_población,_mayores_de_15\\xa0años,_total_(%)_(estimación_nacional)',\n",
        " 'Remesas_de_trabajadores_y_compensación_de_empleados,_pagadas_(US$_a_precios_actuales)',\n",
        " 'Saldo_en_cuenta_corriente_(balanza_de_pagos,_US$_a_precios_actuales)',\n",
        " 'Services,_value_added_(constant_2010_US$)',\n",
        " 'Servicios,_valor_agregado_(US$_actuales)',\n",
        " 'Tasa_de_interés_activa_(%)',\n",
        " 'Tasa_de_interés_de_los_depósitos_(%)',\n",
        " 'Tasa_de_interés_real_(%)',\n",
        " 'Tasa_de_participación_en_la_fuerza_laboral,_de_15_a_24\\xa0años,_total_(%)_(estimación_nacional)',\n",
        " 'Tasa_de_participación_en_la_fuerza_laboral,_total_(%_de_la_población_total_mayor_de_15\\xa0años)_(estimación_nacional)',\n",
        " 'Tasa_de_participación_en_la_fuerza_laboral,_total_(%_del_total_de_la_población_entre_15-64_años)_(estimación_modelado_OIT)',\n",
        " 'Tasa_de_población_activa,_total_(%_de_la_población_total_mayor_de_15_años)_(estimación_modelado_OIT)',\n",
        " 'Textiles_e_indumentaria_(%_del_valor_agregado_en_la_industrialización)',\n",
        " 'Turismo_internacional,_recibos_(US$_a_precios_actuales)',\n",
        " 'Salario_Minimo',\n",
        " 'Valor_del_dolar_en_peso_mexicano_Cierre']])\n",
        "Y_data = Y_scaler.fit_transform(df[[\"INPC\"]]) "
      ],
      "execution_count": 60,
      "outputs": []
    },
    {
      "cell_type": "code",
      "metadata": {
        "id": "bufzvK4seX1F"
      },
      "source": [
        "dfData = df\n",
        "dfData = df.iloc[: , 1:]"
      ],
      "execution_count": 260,
      "outputs": []
    },
    {
      "cell_type": "code",
      "metadata": {
        "id": "gNdOz5pWEuxK"
      },
      "source": [
        "def create_dataset(sequence,look_back=24):\n",
        "    x, y = [],[]\n",
        "    for i in range(len(sequence) - look_back):\n",
        "      x_temp = sequence[i:i+look_back]\n",
        "      y_temp = sequence[i+look_back]\n",
        "      x.append(x_temp)\n",
        "      y.append(y_temp)\n",
        "    return np.array(x),np.array(y)"
      ],
      "execution_count": 416,
      "outputs": []
    },
    {
      "cell_type": "code",
      "metadata": {
        "colab": {
          "base_uri": "https://localhost:8080/"
        },
        "id": "1AjH09pMY8Ub",
        "outputId": "4cfe1d83-e939-458d-8ac9-4d2a4f7e9a47"
      },
      "source": [
        "X_data.shape"
      ],
      "execution_count": 417,
      "outputs": [
        {
          "output_type": "execute_result",
          "data": {
            "text/plain": [
              "(519, 262)"
            ]
          },
          "metadata": {},
          "execution_count": 417
        }
      ]
    },
    {
      "cell_type": "code",
      "metadata": {
        "id": "K2ozCYhmSCdU"
      },
      "source": [
        "#Funcion para hacer el split \n",
        "from sklearn.model_selection import train_test_split"
      ],
      "execution_count": 418,
      "outputs": []
    },
    {
      "cell_type": "code",
      "metadata": {
        "colab": {
          "base_uri": "https://localhost:8080/"
        },
        "id": "zWyOc3SbE6aj",
        "outputId": "0b11019c-a062-4f6f-877c-f5c01887e05e"
      },
      "source": [
        "X_train,y_train = create_dataset(Y_data,24)\n",
        "X_test = X_data[:1]\n",
        "#y_train = Y_data[:519]\n",
        "X_train.shape"
      ],
      "execution_count": 419,
      "outputs": [
        {
          "output_type": "execute_result",
          "data": {
            "text/plain": [
              "(495, 24, 1)"
            ]
          },
          "metadata": {},
          "execution_count": 419
        }
      ]
    },
    {
      "cell_type": "code",
      "metadata": {
        "colab": {
          "base_uri": "https://localhost:8080/"
        },
        "id": "dzcV6TN1E_Jh",
        "outputId": "61bbd947-046d-4c45-bc68-a338e40a0f82"
      },
      "source": [
        "X_train.shape,y_train.shape"
      ],
      "execution_count": 420,
      "outputs": [
        {
          "output_type": "execute_result",
          "data": {
            "text/plain": [
              "((495, 24, 1), (495, 1))"
            ]
          },
          "metadata": {},
          "execution_count": 420
        }
      ]
    },
    {
      "cell_type": "code",
      "metadata": {
        "id": "LVMTIT7nFAwi"
      },
      "source": [
        "from tensorflow.keras.models import Sequential\n",
        "from tensorflow.keras.callbacks import ModelCheckpoint\n",
        "from tensorflow.keras.layers import *"
      ],
      "execution_count": 386,
      "outputs": []
    },
    {
      "cell_type": "code",
      "metadata": {
        "colab": {
          "base_uri": "https://localhost:8080/"
        },
        "id": "9q-QIlaHFCx0",
        "outputId": "8a25ac6a-e0ca-4d31-cbca-a7eb40d3b159"
      },
      "source": [
        "model = Sequential()\n",
        "model.add(LSTM(50, input_shape=X_train.shape[1:],return_sequences=True))\n",
        "model.add(Dropout(0.2))\n",
        "model.add(LSTM(50,return_sequences=True))\n",
        "model.add(Dropout(0.2))\n",
        "model.add(LSTM(50,return_sequences=True))\n",
        "model.add(Dropout(0.2))\n",
        "model.add(LSTM(50))\n",
        "model.add(Dense(1))\n",
        "model.compile(loss='mse',optimizer='adam',metrics=['accuracy'])\n",
        "model.summary()"
      ],
      "execution_count": 421,
      "outputs": [
        {
          "output_type": "stream",
          "text": [
            "Model: \"sequential_47\"\n",
            "_________________________________________________________________\n",
            "Layer (type)                 Output Shape              Param #   \n",
            "=================================================================\n",
            "lstm_152 (LSTM)              (None, 24, 50)            10400     \n",
            "_________________________________________________________________\n",
            "dropout_109 (Dropout)        (None, 24, 50)            0         \n",
            "_________________________________________________________________\n",
            "lstm_153 (LSTM)              (None, 24, 50)            20200     \n",
            "_________________________________________________________________\n",
            "dropout_110 (Dropout)        (None, 24, 50)            0         \n",
            "_________________________________________________________________\n",
            "lstm_154 (LSTM)              (None, 24, 50)            20200     \n",
            "_________________________________________________________________\n",
            "dropout_111 (Dropout)        (None, 24, 50)            0         \n",
            "_________________________________________________________________\n",
            "lstm_155 (LSTM)              (None, 50)                20200     \n",
            "_________________________________________________________________\n",
            "dense_46 (Dense)             (None, 1)                 51        \n",
            "=================================================================\n",
            "Total params: 71,051\n",
            "Trainable params: 71,051\n",
            "Non-trainable params: 0\n",
            "_________________________________________________________________\n"
          ],
          "name": "stdout"
        }
      ]
    },
    {
      "cell_type": "code",
      "metadata": {
        "id": "gO4EPs85FFJ6"
      },
      "source": [
        "checkpoint = ModelCheckpoint('modelo.h5',monitor='val_loss',verbose=1,save_best_only=True)"
      ],
      "execution_count": 422,
      "outputs": []
    },
    {
      "cell_type": "code",
      "metadata": {
        "colab": {
          "base_uri": "https://localhost:8080/"
        },
        "id": "9klPZWswFIBu",
        "outputId": "07b6f3e6-baa7-4277-90fe-aa6812592dc2"
      },
      "source": [
        "hist = model.fit(X_train,y_train,validation_split=0.1,batch_size=64,epochs=50,callbacks=[checkpoint])"
      ],
      "execution_count": 423,
      "outputs": [
        {
          "output_type": "stream",
          "text": [
            "Epoch 1/50\n",
            "7/7 [==============================] - 21s 317ms/step - loss: 0.0988 - accuracy: 0.0000e+00 - val_loss: 0.0270 - val_accuracy: 0.0200\n",
            "\n",
            "Epoch 00001: val_loss improved from inf to 0.02702, saving model to modelo.h5\n",
            "Epoch 2/50\n",
            "7/7 [==============================] - 1s 74ms/step - loss: 0.0224 - accuracy: 0.0000e+00 - val_loss: 0.1377 - val_accuracy: 0.0200\n",
            "\n",
            "Epoch 00002: val_loss did not improve from 0.02702\n",
            "Epoch 3/50\n",
            "7/7 [==============================] - 1s 77ms/step - loss: 0.0155 - accuracy: 0.0000e+00 - val_loss: 0.0059 - val_accuracy: 0.0200\n",
            "\n",
            "Epoch 00003: val_loss improved from 0.02702 to 0.00587, saving model to modelo.h5\n",
            "Epoch 4/50\n",
            "7/7 [==============================] - 1s 76ms/step - loss: 0.0070 - accuracy: 0.0000e+00 - val_loss: 0.0183 - val_accuracy: 0.0200\n",
            "\n",
            "Epoch 00004: val_loss did not improve from 0.00587\n",
            "Epoch 5/50\n",
            "7/7 [==============================] - 1s 74ms/step - loss: 0.0034 - accuracy: 0.0000e+00 - val_loss: 0.0026 - val_accuracy: 0.0200\n",
            "\n",
            "Epoch 00005: val_loss improved from 0.00587 to 0.00262, saving model to modelo.h5\n",
            "Epoch 6/50\n",
            "7/7 [==============================] - 1s 76ms/step - loss: 0.0013 - accuracy: 0.0000e+00 - val_loss: 6.1053e-04 - val_accuracy: 0.0200\n",
            "\n",
            "Epoch 00006: val_loss improved from 0.00262 to 0.00061, saving model to modelo.h5\n",
            "Epoch 7/50\n",
            "7/7 [==============================] - 1s 76ms/step - loss: 0.0013 - accuracy: 0.0000e+00 - val_loss: 9.1332e-04 - val_accuracy: 0.0200\n",
            "\n",
            "Epoch 00007: val_loss did not improve from 0.00061\n",
            "Epoch 8/50\n",
            "7/7 [==============================] - 1s 79ms/step - loss: 9.3152e-04 - accuracy: 0.0000e+00 - val_loss: 0.0012 - val_accuracy: 0.0200\n",
            "\n",
            "Epoch 00008: val_loss did not improve from 0.00061\n",
            "Epoch 9/50\n",
            "7/7 [==============================] - 1s 76ms/step - loss: 7.8264e-04 - accuracy: 0.0000e+00 - val_loss: 3.2414e-04 - val_accuracy: 0.0200\n",
            "\n",
            "Epoch 00009: val_loss improved from 0.00061 to 0.00032, saving model to modelo.h5\n",
            "Epoch 10/50\n",
            "7/7 [==============================] - 1s 77ms/step - loss: 6.7388e-04 - accuracy: 0.0000e+00 - val_loss: 0.0025 - val_accuracy: 0.0200\n",
            "\n",
            "Epoch 00010: val_loss did not improve from 0.00032\n",
            "Epoch 11/50\n",
            "7/7 [==============================] - 1s 76ms/step - loss: 7.1776e-04 - accuracy: 0.0000e+00 - val_loss: 3.3169e-04 - val_accuracy: 0.0200\n",
            "\n",
            "Epoch 00011: val_loss did not improve from 0.00032\n",
            "Epoch 12/50\n",
            "7/7 [==============================] - 1s 75ms/step - loss: 6.9737e-04 - accuracy: 0.0000e+00 - val_loss: 0.0017 - val_accuracy: 0.0200\n",
            "\n",
            "Epoch 00012: val_loss did not improve from 0.00032\n",
            "Epoch 13/50\n",
            "7/7 [==============================] - 1s 80ms/step - loss: 5.7601e-04 - accuracy: 0.0000e+00 - val_loss: 6.4262e-04 - val_accuracy: 0.0200\n",
            "\n",
            "Epoch 00013: val_loss did not improve from 0.00032\n",
            "Epoch 14/50\n",
            "7/7 [==============================] - 1s 75ms/step - loss: 5.4938e-04 - accuracy: 0.0000e+00 - val_loss: 6.5119e-04 - val_accuracy: 0.0200\n",
            "\n",
            "Epoch 00014: val_loss did not improve from 0.00032\n",
            "Epoch 15/50\n",
            "7/7 [==============================] - 1s 75ms/step - loss: 5.5561e-04 - accuracy: 0.0000e+00 - val_loss: 0.0010 - val_accuracy: 0.0200\n",
            "\n",
            "Epoch 00015: val_loss did not improve from 0.00032\n",
            "Epoch 16/50\n",
            "7/7 [==============================] - 1s 73ms/step - loss: 6.5537e-04 - accuracy: 0.0000e+00 - val_loss: 4.3142e-04 - val_accuracy: 0.0200\n",
            "\n",
            "Epoch 00016: val_loss did not improve from 0.00032\n",
            "Epoch 17/50\n",
            "7/7 [==============================] - 1s 76ms/step - loss: 6.9049e-04 - accuracy: 0.0000e+00 - val_loss: 3.6625e-04 - val_accuracy: 0.0200\n",
            "\n",
            "Epoch 00017: val_loss did not improve from 0.00032\n",
            "Epoch 18/50\n",
            "7/7 [==============================] - 1s 78ms/step - loss: 5.1196e-04 - accuracy: 0.0000e+00 - val_loss: 6.6752e-04 - val_accuracy: 0.0200\n",
            "\n",
            "Epoch 00018: val_loss did not improve from 0.00032\n",
            "Epoch 19/50\n",
            "7/7 [==============================] - 1s 76ms/step - loss: 4.7495e-04 - accuracy: 0.0000e+00 - val_loss: 4.5308e-04 - val_accuracy: 0.0200\n",
            "\n",
            "Epoch 00019: val_loss did not improve from 0.00032\n",
            "Epoch 20/50\n",
            "7/7 [==============================] - 1s 74ms/step - loss: 5.2122e-04 - accuracy: 0.0000e+00 - val_loss: 6.7693e-04 - val_accuracy: 0.0200\n",
            "\n",
            "Epoch 00020: val_loss did not improve from 0.00032\n",
            "Epoch 21/50\n",
            "7/7 [==============================] - 1s 77ms/step - loss: 6.0034e-04 - accuracy: 0.0000e+00 - val_loss: 0.0013 - val_accuracy: 0.0200\n",
            "\n",
            "Epoch 00021: val_loss did not improve from 0.00032\n",
            "Epoch 22/50\n",
            "7/7 [==============================] - 1s 78ms/step - loss: 6.0907e-04 - accuracy: 0.0000e+00 - val_loss: 7.3068e-04 - val_accuracy: 0.0200\n",
            "\n",
            "Epoch 00022: val_loss did not improve from 0.00032\n",
            "Epoch 23/50\n",
            "7/7 [==============================] - 1s 78ms/step - loss: 5.7088e-04 - accuracy: 0.0000e+00 - val_loss: 3.0420e-04 - val_accuracy: 0.0200\n",
            "\n",
            "Epoch 00023: val_loss improved from 0.00032 to 0.00030, saving model to modelo.h5\n",
            "Epoch 24/50\n",
            "7/7 [==============================] - 1s 77ms/step - loss: 6.3774e-04 - accuracy: 0.0000e+00 - val_loss: 0.0012 - val_accuracy: 0.0200\n",
            "\n",
            "Epoch 00024: val_loss did not improve from 0.00030\n",
            "Epoch 25/50\n",
            "7/7 [==============================] - 1s 75ms/step - loss: 5.8928e-04 - accuracy: 0.0000e+00 - val_loss: 0.0013 - val_accuracy: 0.0200\n",
            "\n",
            "Epoch 00025: val_loss did not improve from 0.00030\n",
            "Epoch 26/50\n",
            "7/7 [==============================] - 1s 77ms/step - loss: 6.7802e-04 - accuracy: 0.0000e+00 - val_loss: 3.2352e-04 - val_accuracy: 0.0200\n",
            "\n",
            "Epoch 00026: val_loss did not improve from 0.00030\n",
            "Epoch 27/50\n",
            "7/7 [==============================] - 1s 76ms/step - loss: 5.5194e-04 - accuracy: 0.0000e+00 - val_loss: 7.7290e-04 - val_accuracy: 0.0200\n",
            "\n",
            "Epoch 00027: val_loss did not improve from 0.00030\n",
            "Epoch 28/50\n",
            "7/7 [==============================] - 1s 79ms/step - loss: 5.5162e-04 - accuracy: 0.0000e+00 - val_loss: 6.9981e-04 - val_accuracy: 0.0200\n",
            "\n",
            "Epoch 00028: val_loss did not improve from 0.00030\n",
            "Epoch 29/50\n",
            "7/7 [==============================] - 1s 76ms/step - loss: 4.9586e-04 - accuracy: 0.0000e+00 - val_loss: 3.7429e-04 - val_accuracy: 0.0200\n",
            "\n",
            "Epoch 00029: val_loss did not improve from 0.00030\n",
            "Epoch 30/50\n",
            "7/7 [==============================] - 1s 78ms/step - loss: 4.8708e-04 - accuracy: 0.0000e+00 - val_loss: 4.9663e-04 - val_accuracy: 0.0200\n",
            "\n",
            "Epoch 00030: val_loss did not improve from 0.00030\n",
            "Epoch 31/50\n",
            "7/7 [==============================] - 1s 79ms/step - loss: 4.8785e-04 - accuracy: 0.0000e+00 - val_loss: 4.6462e-04 - val_accuracy: 0.0200\n",
            "\n",
            "Epoch 00031: val_loss did not improve from 0.00030\n",
            "Epoch 32/50\n",
            "7/7 [==============================] - 1s 83ms/step - loss: 4.5053e-04 - accuracy: 0.0000e+00 - val_loss: 6.0938e-04 - val_accuracy: 0.0200\n",
            "\n",
            "Epoch 00032: val_loss did not improve from 0.00030\n",
            "Epoch 33/50\n",
            "7/7 [==============================] - 1s 75ms/step - loss: 4.1542e-04 - accuracy: 0.0000e+00 - val_loss: 4.5203e-04 - val_accuracy: 0.0200\n",
            "\n",
            "Epoch 00033: val_loss did not improve from 0.00030\n",
            "Epoch 34/50\n",
            "7/7 [==============================] - 1s 77ms/step - loss: 4.7400e-04 - accuracy: 0.0000e+00 - val_loss: 3.1730e-04 - val_accuracy: 0.0200\n",
            "\n",
            "Epoch 00034: val_loss did not improve from 0.00030\n",
            "Epoch 35/50\n",
            "7/7 [==============================] - 1s 77ms/step - loss: 4.7621e-04 - accuracy: 0.0000e+00 - val_loss: 5.3336e-04 - val_accuracy: 0.0200\n",
            "\n",
            "Epoch 00035: val_loss did not improve from 0.00030\n",
            "Epoch 36/50\n",
            "7/7 [==============================] - 1s 78ms/step - loss: 4.2866e-04 - accuracy: 0.0000e+00 - val_loss: 8.5782e-04 - val_accuracy: 0.0200\n",
            "\n",
            "Epoch 00036: val_loss did not improve from 0.00030\n",
            "Epoch 37/50\n",
            "7/7 [==============================] - 1s 79ms/step - loss: 4.6356e-04 - accuracy: 0.0000e+00 - val_loss: 4.6319e-04 - val_accuracy: 0.0200\n",
            "\n",
            "Epoch 00037: val_loss did not improve from 0.00030\n",
            "Epoch 38/50\n",
            "7/7 [==============================] - 1s 78ms/step - loss: 4.4082e-04 - accuracy: 0.0000e+00 - val_loss: 3.0911e-04 - val_accuracy: 0.0200\n",
            "\n",
            "Epoch 00038: val_loss did not improve from 0.00030\n",
            "Epoch 39/50\n",
            "7/7 [==============================] - 1s 80ms/step - loss: 5.1068e-04 - accuracy: 0.0000e+00 - val_loss: 4.3676e-04 - val_accuracy: 0.0200\n",
            "\n",
            "Epoch 00039: val_loss did not improve from 0.00030\n",
            "Epoch 40/50\n",
            "7/7 [==============================] - 1s 76ms/step - loss: 3.7525e-04 - accuracy: 0.0000e+00 - val_loss: 3.1746e-04 - val_accuracy: 0.0200\n",
            "\n",
            "Epoch 00040: val_loss did not improve from 0.00030\n",
            "Epoch 41/50\n",
            "7/7 [==============================] - 1s 77ms/step - loss: 4.6189e-04 - accuracy: 0.0000e+00 - val_loss: 6.5844e-04 - val_accuracy: 0.0200\n",
            "\n",
            "Epoch 00041: val_loss did not improve from 0.00030\n",
            "Epoch 42/50\n",
            "7/7 [==============================] - 1s 76ms/step - loss: 4.8412e-04 - accuracy: 0.0000e+00 - val_loss: 5.7312e-04 - val_accuracy: 0.0200\n",
            "\n",
            "Epoch 00042: val_loss did not improve from 0.00030\n",
            "Epoch 43/50\n",
            "7/7 [==============================] - 1s 80ms/step - loss: 4.4743e-04 - accuracy: 0.0000e+00 - val_loss: 3.7151e-04 - val_accuracy: 0.0200\n",
            "\n",
            "Epoch 00043: val_loss did not improve from 0.00030\n",
            "Epoch 44/50\n",
            "7/7 [==============================] - 1s 75ms/step - loss: 4.6515e-04 - accuracy: 0.0000e+00 - val_loss: 2.8892e-04 - val_accuracy: 0.0200\n",
            "\n",
            "Epoch 00044: val_loss improved from 0.00030 to 0.00029, saving model to modelo.h5\n",
            "Epoch 45/50\n",
            "7/7 [==============================] - 1s 77ms/step - loss: 4.0147e-04 - accuracy: 0.0000e+00 - val_loss: 2.9016e-04 - val_accuracy: 0.0200\n",
            "\n",
            "Epoch 00045: val_loss did not improve from 0.00029\n",
            "Epoch 46/50\n",
            "7/7 [==============================] - 1s 76ms/step - loss: 4.1863e-04 - accuracy: 0.0000e+00 - val_loss: 2.9262e-04 - val_accuracy: 0.0200\n",
            "\n",
            "Epoch 00046: val_loss did not improve from 0.00029\n",
            "Epoch 47/50\n",
            "7/7 [==============================] - 1s 78ms/step - loss: 4.5575e-04 - accuracy: 0.0000e+00 - val_loss: 7.2009e-04 - val_accuracy: 0.0200\n",
            "\n",
            "Epoch 00047: val_loss did not improve from 0.00029\n",
            "Epoch 48/50\n",
            "7/7 [==============================] - 1s 75ms/step - loss: 3.8479e-04 - accuracy: 0.0000e+00 - val_loss: 4.9651e-04 - val_accuracy: 0.0200\n",
            "\n",
            "Epoch 00048: val_loss did not improve from 0.00029\n",
            "Epoch 49/50\n",
            "7/7 [==============================] - 1s 78ms/step - loss: 4.2967e-04 - accuracy: 0.0000e+00 - val_loss: 5.3504e-04 - val_accuracy: 0.0200\n",
            "\n",
            "Epoch 00049: val_loss did not improve from 0.00029\n",
            "Epoch 50/50\n",
            "7/7 [==============================] - 1s 82ms/step - loss: 3.4640e-04 - accuracy: 0.0000e+00 - val_loss: 3.0100e-04 - val_accuracy: 0.0200\n",
            "\n",
            "Epoch 00050: val_loss did not improve from 0.00029\n"
          ],
          "name": "stdout"
        }
      ]
    },
    {
      "cell_type": "code",
      "metadata": {
        "colab": {
          "base_uri": "https://localhost:8080/",
          "height": 265
        },
        "id": "lAWbpnzkFJuR",
        "outputId": "89af1af0-66dd-46ee-afb1-a6a2cece51d2"
      },
      "source": [
        "plt.plot(hist.history['loss'],label='Loss')\n",
        "plt.plot(hist.history['val_loss'],label='Loss')\n",
        "plt.show()"
      ],
      "execution_count": 424,
      "outputs": [
        {
          "output_type": "display_data",
          "data": {
            "image/png": "[encoded data removed]",
            "text/plain": [
              "<Figure size 432x288 with 1 Axes>"
            ]
          },
          "metadata": {
            "needs_background": "light"
          }
        }
      ]
    },
    {
      "cell_type": "code",
      "metadata": {
        "colab": {
          "base_uri": "https://localhost:8080/"
        },
        "id": "Ai91ph9KgogZ",
        "outputId": "5e8162b5-f7b5-45a1-c10b-f05966c50393"
      },
      "source": [
        "X_train.shape"
      ],
      "execution_count": 425,
      "outputs": [
        {
          "output_type": "execute_result",
          "data": {
            "text/plain": [
              "(495, 24, 1)"
            ]
          },
          "metadata": {},
          "execution_count": 425
        }
      ]
    },
    {
      "cell_type": "code",
      "metadata": {
        "colab": {
          "base_uri": "https://localhost:8080/"
        },
        "id": "DwYjG37rFc4P",
        "outputId": "d6c3cf94-549b-4781-9f40-c66775adb23a"
      },
      "source": [
        "y_train_predicted = model.predict(X_train)\n",
        "y_train_predicted.shape"
      ],
      "execution_count": 426,
      "outputs": [
        {
          "output_type": "execute_result",
          "data": {
            "text/plain": [
              "(495, 1)"
            ]
          },
          "metadata": {},
          "execution_count": 426
        }
      ]
    },
    {
      "cell_type": "code",
      "metadata": {
        "colab": {
          "base_uri": "https://localhost:8080/",
          "height": 338
        },
        "id": "A4exbnkwFez8",
        "outputId": "0ab14f0b-23f0-4473-bab0-590db51b2acc"
      },
      "source": [
        "plt.figure(figsize=(15,5))\n",
        "plt.plot(y_train,'r')\n",
        "plt.plot(y_train_predicted,'b')"
      ],
      "execution_count": 427,
      "outputs": [
        {
          "output_type": "execute_result",
          "data": {
            "text/plain": [
              "[<matplotlib.lines.Line2D at 0x7fcbff311b50>]"
            ]
          },
          "metadata": {},
          "execution_count": 427
        },
        {
          "output_type": "display_data",
          "data": {
            "image/png": "[encoded data removed]",
            "text/plain": [
              "<Figure size 1080x360 with 1 Axes>"
            ]
          },
          "metadata": {
            "needs_background": "light"
          }
        }
      ]
    },
    {
      "cell_type": "code",
      "metadata": {
        "colab": {
          "base_uri": "https://localhost:8080/",
          "height": 419
        },
        "id": "1G_UNIaWVnmF",
        "outputId": "d513ae51-256d-44f9-e68e-3ee8fb4755e3"
      },
      "source": [
        "pred_Inverse = Y_scaler.inverse_transform(y_train_predicted)\n",
        "\n",
        "predictionsDataframe = pd.DataFrame(pred_Inverse)\n",
        "predictionsDataframe"
      ],
      "execution_count": 428,
      "outputs": [
        {
          "output_type": "execute_result",
          "data": {
            "text/html": [
              "<div>\n",
              "<style scoped>\n",
              "    .dataframe tbody tr th:only-of-type {\n",
              "        vertical-align: middle;\n",
              "    }\n",
              "\n",
              "    .dataframe tbody tr th {\n",
              "        vertical-align: top;\n",
              "    }\n",
              "\n",
              "    .dataframe thead th {\n",
              "        text-align: right;\n",
              "    }\n",
              "</style>\n",
              "<table border=\"1\" class=\"dataframe\">\n",
              "  <thead>\n",
              "    <tr style=\"text-align: right;\">\n",
              "      <th></th>\n",
              "      <th>0</th>\n",
              "    </tr>\n",
              "  </thead>\n",
              "  <tbody>\n",
              "    <tr>\n",
              "      <th>0</th>\n",
              "      <td>48.193497</td>\n",
              "    </tr>\n",
              "    <tr>\n",
              "      <th>1</th>\n",
              "      <td>48.320740</td>\n",
              "    </tr>\n",
              "    <tr>\n",
              "      <th>2</th>\n",
              "      <td>48.447880</td>\n",
              "    </tr>\n",
              "    <tr>\n",
              "      <th>3</th>\n",
              "      <td>48.575684</td>\n",
              "    </tr>\n",
              "    <tr>\n",
              "      <th>4</th>\n",
              "      <td>48.706776</td>\n",
              "    </tr>\n",
              "    <tr>\n",
              "      <th>...</th>\n",
              "      <td>...</td>\n",
              "    </tr>\n",
              "    <tr>\n",
              "      <th>490</th>\n",
              "      <td>110.954941</td>\n",
              "    </tr>\n",
              "    <tr>\n",
              "      <th>491</th>\n",
              "      <td>111.185959</td>\n",
              "    </tr>\n",
              "    <tr>\n",
              "      <th>492</th>\n",
              "      <td>111.411964</td>\n",
              "    </tr>\n",
              "    <tr>\n",
              "      <th>493</th>\n",
              "      <td>111.636360</td>\n",
              "    </tr>\n",
              "    <tr>\n",
              "      <th>494</th>\n",
              "      <td>111.865166</td>\n",
              "    </tr>\n",
              "  </tbody>\n",
              "</table>\n",
              "<p>495 rows × 1 columns</p>\n",
              "</div>"
            ],
            "text/plain": [
              "              0\n",
              "0     48.193497\n",
              "1     48.320740\n",
              "2     48.447880\n",
              "3     48.575684\n",
              "4     48.706776\n",
              "..          ...\n",
              "490  110.954941\n",
              "491  111.185959\n",
              "492  111.411964\n",
              "493  111.636360\n",
              "494  111.865166\n",
              "\n",
              "[495 rows x 1 columns]"
            ]
          },
          "metadata": {},
          "execution_count": 428
        }
      ]
    },
    {
      "cell_type": "code",
      "metadata": {
        "id": "Gy7vAaT3V6v8"
      },
      "source": [
        "predictionsDataframe.to_csv(\"Predicciones5.csv\")"
      ],
      "execution_count": 429,
      "outputs": []
    },
    {
      "cell_type": "code",
      "metadata": {
        "colab": {
          "base_uri": "https://localhost:8080/"
        },
        "id": "YzF7mZOVtjWM",
        "outputId": "4d43908b-b1f6-49c5-fd2c-8a6f6f269cd2"
      },
      "source": [
        "score = model.evaluate(X_train,y_train_predicted, verbose=0)\n",
        "print('Test loss:', score[0])\n",
        "print('Test accuracy:', score[1])"
      ],
      "execution_count": 435,
      "outputs": [
        {
          "output_type": "stream",
          "text": [
            "Test loss: 1.035647385212691e-15\n",
            "Test accuracy: 0.0\n"
          ],
          "name": "stdout"
        },
        {
          "output_type": "execute_result",
          "data": {
            "text/plain": [
              "[1.035647385212691e-15, 0.0]"
            ]
          },
          "metadata": {},
          "execution_count": 435
        }
      ]
    },
    {
      "cell_type": "markdown",
      "metadata": {
        "id": "NJ3c4XfFGjz9"
      },
      "source": [
        "# LSTM 2"
      ]
    },
    {
      "cell_type": "code",
      "metadata": {
        "id": "IqF8vTKZGmo2"
      },
      "source": [
        "df['Date'] = pd.to_datetime(df['Date'], format='%m/%d/%Y', errors='coerce')\n",
        "df.set_axis(df['Date'], inplace=True)"
      ],
      "execution_count": 22,
      "outputs": []
    },
    {
      "cell_type": "code",
      "metadata": {
        "colab": {
          "base_uri": "https://localhost:8080/",
          "height": 283
        },
        "id": "3EvA9T-UHvbc",
        "outputId": "ecd770e0-7d73-4425-c79e-fda633f465d5"
      },
      "source": [
        "pyplot.plot(df.INPC)"
      ],
      "execution_count": 26,
      "outputs": [
        {
          "output_type": "execute_result",
          "data": {
            "text/plain": [
              "[<matplotlib.lines.Line2D at 0x7fcc01388a10>]"
            ]
          },
          "metadata": {},
          "execution_count": 26
        },
        {
          "output_type": "display_data",
          "data": {
            "image/png": "[encoded data removed]",
            "text/plain": [
              "<Figure size 432x288 with 1 Axes>"
            ]
          },
          "metadata": {
            "needs_background": "light"
          }
        }
      ]
    },
    {
      "cell_type": "code",
      "metadata": {
        "id": "4t8j-CDvKaDR"
      },
      "source": [
        ""
      ],
      "execution_count": null,
      "outputs": []
    }
  ]
}