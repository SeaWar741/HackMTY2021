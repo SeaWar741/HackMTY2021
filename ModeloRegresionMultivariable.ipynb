{
  "nbformat": 4,
  "nbformat_minor": 0,
  "metadata": {
    "colab": {
      "name": "ModeloRegresionMultivariable",
      "provenance": [],
      "authorship_tag": "ABX9TyNRyexzYALqgyaeqQjURp2/",
      "include_colab_link": true
    },
    "kernelspec": {
      "name": "python3",
      "display_name": "Python 3"
    },
    "language_info": {
      "name": "python"
    }
  },
  "cells": [
    {
      "cell_type": "markdown",
      "metadata": {
        "id": "view-in-github",
        "colab_type": "text"
      },
      "source": [
        "<a href=\"https://colab.research.google.com/github/SeaWar741/HackMTY2021/blob/main/ModeloRegresionMultivariable.ipynb\" target=\"_parent\"><img src=\"https://colab.research.google.com/assets/colab-badge.svg\" alt=\"Open In Colab\"/></a>"
      ]
    },
    {
      "cell_type": "markdown",
      "metadata": {
        "id": "KCn_YzL1p3lR"
      },
      "source": [
        "![image](https://avatars.githubusercontent.com/u/69404850?s=200&v=4)\n",
        "# **49 - DFuture: Modelo de predicción de la inflación en México**\n",
        "Abraham Cepeda Oseguera\n",
        "\n",
        "Axel Mercado Gasque\n",
        "\n",
        "Juan Carlos Garfias Tovar\n",
        "\n"
      ]
    },
    {
      "cell_type": "code",
      "metadata": {
        "id": "Wm5uuApXpzme"
      },
      "source": [
        "import pandas as pd\n",
        "import numpy as np\n",
        "import sklearn\n",
        "import tensorflow as tf\n",
        "import matplotlib.pyplot as plt\n",
        "import seaborn as sns\n",
        "from sklearn.linear_model import LinearRegression\n",
        "from numpy import inf\n",
        "from sklearn.metrics import mean_squared_error, r2_score\n",
        "from sklearn.model_selection import train_test_split"
      ],
      "execution_count": null,
      "outputs": []
    },
    {
      "cell_type": "markdown",
      "metadata": {
        "id": "EHmn4Wf8rcN9"
      },
      "source": [
        "# Importar archivo y limpieza de archivos con rellenado de valores nulos"
      ]
    },
    {
      "cell_type": "code",
      "metadata": {
        "id": "AsF10InfrhoV"
      },
      "source": [
        "df = pd.read_excel(\"IndicadoresFinalesV2.xlsx\") #reemplazar por archivo con variables e inflacion deseada\n",
        "df"
      ],
      "execution_count": null,
      "outputs": []
    },
    {
      "cell_type": "code",
      "metadata": {
        "id": "XsLnHH2nrqtE"
      },
      "source": [
        "df.mean()"
      ],
      "execution_count": null,
      "outputs": []
    },
    {
      "cell_type": "code",
      "metadata": {
        "id": "okt02Srhrsy6"
      },
      "source": [
        "#usando media para reemplazar valores nulos\n",
        "df2 = df.fillna(df.mean())\n",
        "df2.head()"
      ],
      "execution_count": null,
      "outputs": []
    },
    {
      "cell_type": "code",
      "metadata": {
        "id": "aVNWQH56rzET"
      },
      "source": [
        "df1 = df2.dropna(axis=1, how='all')\n",
        "df1.mean()"
      ],
      "execution_count": null,
      "outputs": []
    },
    {
      "cell_type": "code",
      "metadata": {
        "id": "TQHpr3wKr2Nl"
      },
      "source": [
        "df1.to_csv(\"IndicadoresLimpio.csv\") #CSV con limpieza de datos aplicada"
      ],
      "execution_count": null,
      "outputs": []
    },
    {
      "cell_type": "code",
      "metadata": {
        "id": "1DCbzrnjr-nz"
      },
      "source": [
        "df1[\"INPC\"].mean() #promedio de INPC"
      ],
      "execution_count": null,
      "outputs": []
    },
    {
      "cell_type": "markdown",
      "metadata": {
        "id": "rCJwImyhsESC"
      },
      "source": [
        "# Generar matrices de correlacion"
      ]
    },
    {
      "cell_type": "code",
      "metadata": {
        "id": "cNs1xkWhsDee"
      },
      "source": [
        "corr_df = df1.corr(method='pearson')"
      ],
      "execution_count": null,
      "outputs": []
    },
    {
      "cell_type": "code",
      "metadata": {
        "id": "VxuUdkFysJiz"
      },
      "source": [
        "plt.matshow(corr_df)\n",
        "plt.show()"
      ],
      "execution_count": null,
      "outputs": []
    },
    {
      "cell_type": "code",
      "metadata": {
        "id": "ZzsgNZ1vsLj7"
      },
      "source": [
        "plt.figure(figsize=(8, 6))\n",
        "sns.heatmap(corr_df, annot=True)\n",
        "plt.show()"
      ],
      "execution_count": null,
      "outputs": []
    },
    {
      "cell_type": "code",
      "metadata": {
        "id": "m0VKwdMjsNKE"
      },
      "source": [
        "corr_df.style.background_gradient(cmap='coolwarm')"
      ],
      "execution_count": null,
      "outputs": []
    },
    {
      "cell_type": "code",
      "metadata": {
        "id": "iIOCk84IsSTy"
      },
      "source": [
        "for col in df1.columns: #desplegar columnas\n",
        "    print(col)"
      ],
      "execution_count": null,
      "outputs": []
    },
    {
      "cell_type": "markdown",
      "metadata": {
        "id": "zImGbdn5sXvE"
      },
      "source": [
        "# Modelo de regresion multivariable"
      ]
    },
    {
      "cell_type": "code",
      "metadata": {
        "id": "_SjbtzdVsVeK"
      },
      "source": [
        "y = df1.INPC\n",
        "x = df1.loc[:, df1.columns != 'INPC']\n",
        "x = x.loc[:, x.columns != 'Date']\n",
        "x"
      ],
      "execution_count": null,
      "outputs": []
    },
    {
      "cell_type": "code",
      "metadata": {
        "id": "E03G7toesXPh"
      },
      "source": [
        "model = LinearRegression()"
      ],
      "execution_count": null,
      "outputs": []
    },
    {
      "cell_type": "code",
      "metadata": {
        "id": "RJTdlBhLsepQ"
      },
      "source": [
        "x = x.fillna(x.mean())"
      ],
      "execution_count": null,
      "outputs": []
    },
    {
      "cell_type": "code",
      "metadata": {
        "id": "qzTcD3kLsfu0"
      },
      "source": [
        "print(len(x.index)) #ver el size\n",
        "print(len(y.index))"
      ],
      "execution_count": null,
      "outputs": []
    },
    {
      "cell_type": "code",
      "metadata": {
        "id": "o5LNKLvUskSy"
      },
      "source": [
        "model.fit(x,y) #ajustar datos al modelo"
      ],
      "execution_count": null,
      "outputs": []
    },
    {
      "cell_type": "code",
      "metadata": {
        "id": "2Bfma99EsnHZ"
      },
      "source": [
        "prediction = model.predict(x) #predecir datos del modelo\n",
        "prediction"
      ],
      "execution_count": null,
      "outputs": []
    },
    {
      "cell_type": "code",
      "metadata": {
        "id": "V9KPNcOCsql5"
      },
      "source": [
        "plt.figure(figsize=(16,9)) #Grafica comparativa\n",
        "plt.plot( list(df1['INPC']))\n",
        "plt.plot( list(prediction))\n",
        "plt.title(\"Actual vs Predicted\")\n",
        "plt.ylabel(\"INCP\")\n",
        "plt.legend(('Actual','predicted'))\n",
        "plt.show() "
      ],
      "execution_count": null,
      "outputs": []
    },
    {
      "cell_type": "code",
      "metadata": {
        "id": "4DW2z0UCsxiu"
      },
      "source": [
        "predictionsDataframe = pd.DataFrame(prediction) #Exportar valores\n",
        "predictionsDataframe\n",
        "predictionsDataframe.to_csv(\"PrediccionesRegresionLineal.csv\")"
      ],
      "execution_count": null,
      "outputs": []
    },
    {
      "cell_type": "markdown",
      "metadata": {
        "id": "HK3JIKGYs3DJ"
      },
      "source": [
        "# Evaluar modelo"
      ]
    },
    {
      "cell_type": "code",
      "metadata": {
        "id": "g0wF0eLJs5mi"
      },
      "source": [
        "# The coefficients\n",
        "print('Coefficients: \\n', model.coef_)\n",
        "# The mean squared error\n",
        "print('Mean squared error: %.2f'\n",
        "      % mean_squared_error(y, prediction))\n",
        "# The coefficient of determination: 1 is perfect prediction\n",
        "print('Coefficient of determination: %.2f'\n",
        "      % r2_score(y, prediction))"
      ],
      "execution_count": null,
      "outputs": []
    },
    {
      "cell_type": "code",
      "metadata": {
        "id": "fdydlTd0s9Oy"
      },
      "source": [
        "model.score(x,y)"
      ],
      "execution_count": null,
      "outputs": []
    },
    {
      "cell_type": "code",
      "metadata": {
        "id": "ib4I4tYStCHf"
      },
      "source": [
        "model.intercept_"
      ],
      "execution_count": null,
      "outputs": []
    }
  ]
}